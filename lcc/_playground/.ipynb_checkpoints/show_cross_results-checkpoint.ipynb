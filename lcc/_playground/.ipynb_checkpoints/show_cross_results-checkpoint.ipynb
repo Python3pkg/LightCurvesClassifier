{
 "cells": [
  {
   "cell_type": "code",
   "execution_count": 15,
   "metadata": {
    "collapsed": false
   },
   "outputs": [],
   "source": [
    "import os\n",
    "import sys\n",
    "#sys.path.append(os.path.dirname(os.path.dirname(os.path.abspath(__file__))))\n",
    "sys.path.append(\"..\")\n",
    "import numpy as np\n",
    "from matplotlib import pyplot as plt\n",
    "from __future__ import division\n",
    "%matplotlib inline"
   ]
  },
  {
   "cell_type": "code",
   "execution_count": 2,
   "metadata": {
    "collapsed": true
   },
   "outputs": [],
   "source": [
    "from utils.stars import plotStarsPicture\n",
    "from db_tier.stars_provider import StarsProvider"
   ]
  },
  {
   "cell_type": "code",
   "execution_count": 3,
   "metadata": {
    "collapsed": false,
    "scrolled": true
   },
   "outputs": [
    {
     "name": "stdout",
     "output_type": "stream",
     "text": [
      "21\n"
     ]
    }
   ],
   "source": [
    "p = {\"db_key\" : \"og_milli_crossmatch\",\n",
    "    \"angle_dist\" : \"<5\",\n",
    "    \"lc_n\" :\">1\"}\n",
    "\n",
    "stars = StarsProvider().getProvider(obtain_method=\"LocalDbClient\", obtain_params=p).getStarsWithCurves()\n",
    "print len(stars)"
   ]
  },
  {
   "cell_type": "code",
   "execution_count": 4,
   "metadata": {
    "collapsed": false
   },
   "outputs": [],
   "source": [
    "stars = StarsProvider().getProvider(obtain_method=\"FileManager\", obtain_params={\"path\" : \"stars\"}).getStarsWithCurves()\n",
    "quasars = StarsProvider().getProvider(obtain_method=\"FileManager\", obtain_params={\"path\" : \"quasars\"}).getStarsWithCurves()"
   ]
  },
  {
   "cell_type": "code",
   "execution_count": 5,
   "metadata": {
    "collapsed": false
   },
   "outputs": [],
   "source": [
    "\n",
    "#plotStarsPicture(stars)"
   ]
  },
  {
   "cell_type": "code",
   "execution_count": 18,
   "metadata": {
    "collapsed": false
   },
   "outputs": [
    {
     "data": {
      "text/plain": [
       "'x, y = [], []\\nfor r in range(5,200,5):\\n    x.append(np.std( [s.getAbbe(r) for s in stars])*10 / np.mean( [s.getAbbe(r) for s in stars])*10)\\n    y.append(np.std( [s.getAbbe(r) for s in quasars])*10 /np.mean( [s.getAbbe(r) for s in quasars])*10)\\n    \\nt = range(5,200,5)\\nplt.plot(t, x, \"b--\")\\nplt.plot(t, y, \"r--\")'"
      ]
     },
     "execution_count": 18,
     "metadata": {},
     "output_type": "execute_result"
    }
   ],
   "source": [
    "\"\"\"x, y = [], []\n",
    "for r in range(5,200,5):\n",
    "    x.append(np.std( [s.getAbbe(r) for s in stars])*10 / np.mean( [s.getAbbe(r) for s in stars])*10)\n",
    "    y.append(np.std( [s.getAbbe(r) for s in quasars])*10 /np.mean( [s.getAbbe(r) for s in quasars])*10)\n",
    "    \n",
    "t = range(5,200,5)\n",
    "plt.plot(t, x, \"b--\")\n",
    "plt.plot(t, y, \"r--\")\"\"\""
   ]
  }
 ],
 "metadata": {
  "kernelspec": {
   "display_name": "Python 2",
   "language": "python",
   "name": "python2"
  },
  "language_info": {
   "codemirror_mode": {
    "name": "ipython",
    "version": 2
   },
   "file_extension": ".py",
   "mimetype": "text/x-python",
   "name": "python",
   "nbconvert_exporter": "python",
   "pygments_lexer": "ipython2",
   "version": "2.7.6"
  }
 },
 "nbformat": 4,
 "nbformat_minor": 0
}
