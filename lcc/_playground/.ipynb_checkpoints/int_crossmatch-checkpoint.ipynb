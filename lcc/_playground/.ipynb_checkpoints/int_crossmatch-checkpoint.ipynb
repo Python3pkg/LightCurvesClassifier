{
 "cells": [
  {
   "cell_type": "code",
   "execution_count": 9,
   "metadata": {
    "collapsed": false
   },
   "outputs": [],
   "source": [
    "import sys\n",
    "import os\n",
    "\n",
    "sys.path.append(\"..\")\n",
    "\n",
    "import numpy as np"
   ]
  },
  {
   "cell_type": "code",
   "execution_count": 8,
   "metadata": {
    "collapsed": false
   },
   "outputs": [],
   "source": [
    "from db_tier.stars_provider import StarsProvider\n",
    "from db_tier.local_stars_db.models_crossmatch_milliquas_ogle import StarsMO"
   ]
  },
  {
   "cell_type": "code",
   "execution_count": 3,
   "metadata": {
    "collapsed": false
   },
   "outputs": [],
   "source": [
    "un_ogle_connector = StarsProvider().getProvider(obtain_method = \"OgleII\")\n",
    "un_loc_connector = StarsProvider().getProvider(obtain_method = \"LocalDbClient\")"
   ]
  },
  {
   "cell_type": "code",
   "execution_count": 29,
   "metadata": {
    "collapsed": false
   },
   "outputs": [
    {
     "data": {
      "text/plain": [
       "'LMC_SC1_2680'"
      ]
     },
     "execution_count": 29,
     "metadata": {},
     "output_type": "execute_result"
    }
   ],
   "source": [
    "#ost = get_ogle_by_coo( 5.549147*15, -70.55792,\"lmc\", 10)\n",
    "#ost.ident[\"ogle\"][\"name\"]"
   ]
  },
  {
   "cell_type": "code",
   "execution_count": 40,
   "metadata": {
    "collapsed": false
   },
   "outputs": [],
   "source": [
    "def get_milliquas_by_id( id ):\n",
    "    obtain_params = {\"db_key\" : \"milliquas\", \"id\": id}\n",
    "    loc_connector = un_loc_connector(obtain_params)\n",
    "    stars = loc_connector.getStarsWithCurves()\n",
    "    if stars:\n",
    "        return stars[0]\n",
    "    return None\n",
    "\n",
    "def get_ogle_by_coo( ra, dec, target, delta ):\n",
    "    obtain_params = {\"db_key\" : \"OgleII\", \"ra\": ra, \"dec\": dec, \"delta\": delta, \"target\" : target}\n",
    "    ogle_connector = un_ogle_connector(obtain_params)\n",
    "    stars = ogle_connector.getStars()\n",
    "    if stars:\n",
    "        if len(stars) > 1:\n",
    "            print \"multiple stars\"\n",
    "            print [star.name for star in stars]\n",
    "        return stars[0]\n",
    "    return None\n",
    "\n",
    "def crossmatch( id, delta = 10 ):\n",
    "    TARGETS = [\"lmc\", \"smc\", \"bul\"]\n",
    "    for target in TARGETS:\n",
    "        milliquas_star = get_milliquas_by_id( id )\n",
    "        ra = milliquas_star.ra.degrees\n",
    "        dec = milliquas_star.dec.degrees\n",
    "        return get_ogle_by_coo( ra, dec, target, delta ), milliquas_star\n",
    "    \n",
    "    return None\n",
    "    "
   ]
  },
  {
   "cell_type": "code",
   "execution_count": 38,
   "metadata": {
    "collapsed": false
   },
   "outputs": [],
   "source": [
    "def crossmatch_all(from_n, to_n):\n",
    "    DELTA = 10\n",
    "    # 6000\n",
    "    found = 0\n",
    "    for i in range(from_n, to_n):\n",
    "        st, m_st = crossmatch( i , DELTA )\n",
    "        if st:\n",
    "            print st.name\n",
    "            found += 1\n",
    "            #id,ogle_name, milliquas_name\n",
    "            data = [[i,st.ident[\"ogle\"][\"name\"], m_st.ident[\"milliquas\"][\"name\"] ]]\n",
    "            with open(\"crossmatch\",'a') as f_handle:\n",
    "                np.savetxt(f_handle,data,fmt='%s', delimiter=\";\")\n",
    "\n",
    "        print i, found\n",
    "        "
   ]
  },
  {
   "cell_type": "code",
   "execution_count": 39,
   "metadata": {
    "collapsed": false
   },
   "outputs": [
    {
     "name": "stdout",
     "output_type": "stream",
     "text": [
      "ogle_field_LMC_SC1_target_lmc_starid_2680\n",
      "ogle_field_LMC_SC1_target_lmc_starid_2680\n",
      "ogle_field_LMC_SC1_target_lmc_starid_2680\n",
      "ogle_field_LMC_SC1_target_lmc_starid_2680\n",
      "ogle_field_LMC_SC1_target_lmc_starid_2680\n",
      "ogle_field_LMC_SC1_target_lmc_starid_2680\n",
      "ogle_field_LMC_SC1_target_lmc_starid_2680\n",
      "ogle_field_LMC_SC1_target_lmc_starid_2680\n",
      "ogle_field_LMC_SC1_target_lmc_starid_2680\n"
     ]
    }
   ],
   "source": [
    "crossmatch_all(6000, 1500000)"
   ]
  }
 ],
 "metadata": {
  "kernelspec": {
   "display_name": "Python 2",
   "language": "python",
   "name": "python2"
  },
  "language_info": {
   "codemirror_mode": {
    "name": "ipython",
    "version": 2
   },
   "file_extension": ".py",
   "mimetype": "text/x-python",
   "name": "python",
   "nbconvert_exporter": "python",
   "pygments_lexer": "ipython2",
   "version": "2.7.6"
  }
 },
 "nbformat": 4,
 "nbformat_minor": 0
}
