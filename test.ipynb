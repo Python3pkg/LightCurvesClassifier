{
 "cells": [
  {
   "cell_type": "code",
   "execution_count": 1,
   "metadata": {
    "collapsed": false
   },
   "outputs": [],
   "source": [
    "from lcc.db_tier.stars_provider import StarsProvider\n",
    "from lcc.utils.stars import plotStarsPicture"
   ]
  },
  {
   "cell_type": "code",
   "execution_count": 6,
   "metadata": {
    "collapsed": false
   },
   "outputs": [
    {
     "name": "stdout",
     "output_type": "stream",
     "text": [
      "query SELECT \"ASAS\", \"LC\", \"Jmag\", \"Kmag\", \"_DE\", \"Per\", \"_RA\", \"Hmag\", \"Class\" FROM \"II/264/asas3\" WHERE ('_DE' BETWEEN '-58.5805777778' AND '-58.5800222222') AND ('_RA' BETWEEN '0.334422222222' AND '0.334977777778') \n",
      "[]\n"
     ]
    }
   ],
   "source": [
    "queries = [{\"ra\":0.3347, \"dec\":-58.5803, \"delta\":1}]\n",
    "client = StarsProvider().getProvider(\n",
    "    obtain_method=\"AsasArchive\", obtain_params=queries)\n",
    "stars = client.getStarsWithCurves()\n",
    "print stars"
   ]
  },
  {
   "cell_type": "code",
   "execution_count": 3,
   "metadata": {
    "collapsed": false
   },
   "outputs": [],
   "source": [
    "plotStarsPicture(stars)"
   ]
  },
  {
   "cell_type": "code",
   "execution_count": null,
   "metadata": {
    "collapsed": false
   },
   "outputs": [],
   "source": [
    "import numpy as np\n",
    "from matplotlib import pyplot as plt\n",
    "from tsne import bh_sne\n",
    "\n",
    "x_data = np.array([np.linspace(0,10,5),np.linspace(8,10,5),np.linspace(80,110,5)])\n",
    "# perform t-SNE embedding\n",
    "print bh_sne(x_data,2)\n",
    "\n",
    "# plot the result\n",
    "\"\"\"vis_x = vis_data[:, 0]\n",
    "vis_y = vis_data[:, 1]\n",
    "\n",
    "plt.scatter(vis_x, vis_y, c=y_data, cmap=plt.cm.get_cmap(\"jet\", 10))\n",
    "plt.colorbar(ticks=range(10))\n",
    "plt.clim(-0.5, 9.5)\n",
    "plt.show()\n",
    "\"\"\""
   ]
  },
  {
   "cell_type": "code",
   "execution_count": 1,
   "metadata": {
    "collapsed": false
   },
   "outputs": [
    {
     "ename": "NameError",
     "evalue": "name 'f' is not defined",
     "output_type": "error",
     "traceback": [
      "\u001b[1;31m---------------------------------------------------------------------------\u001b[0m",
      "\u001b[1;31mNameError\u001b[0m                                 Traceback (most recent call last)",
      "\u001b[1;32m<ipython-input-1-9a8ad92c50ca>\u001b[0m in \u001b[0;36m<module>\u001b[1;34m()\u001b[0m\n\u001b[1;32m----> 1\u001b[1;33m \u001b[0mf\u001b[0m\u001b[1;33m\u001b[0m\u001b[0m\n\u001b[0m",
      "\u001b[1;31mNameError\u001b[0m: name 'f' is not defined"
     ]
    }
   ],
   "source": [
    "f"
   ]
  }
 ],
 "metadata": {
  "kernelspec": {
   "display_name": "Python 2",
   "language": "python",
   "name": "python2"
  },
  "language_info": {
   "codemirror_mode": {
    "name": "ipython",
    "version": 2
   },
   "file_extension": ".py",
   "mimetype": "text/x-python",
   "name": "python",
   "nbconvert_exporter": "python",
   "pygments_lexer": "ipython2",
   "version": "2.7.6"
  }
 },
 "nbformat": 4,
 "nbformat_minor": 0
}
